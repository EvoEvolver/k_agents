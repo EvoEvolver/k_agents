{
 "cells": [
  {
   "cell_type": "code",
   "id": "initial_id",
   "metadata": {
    "collapsed": true,
    "ExecuteTime": {
     "start_time": "2025-03-04T04:38:56.046707Z"
    }
   },
   "source": [
    "from k_agents.execution.agent import execute_procedure\n",
    "from application.example_lab import example_lab\n",
    "from k_agents.translation.agent import init_translation_agents\n",
    "from mllm.config import default_models\n",
    "default_models.normal = \"gpt-4o\"\n",
    "default_models.expensive = \"gpt-4o\"\n",
    "\n",
    "init_translation_agents(example_lab)\n",
    "\n",
    "execute_procedure(\n",
    "\"\"\"\n",
    "- Generate Random Lines with secret_parameter being 2. If failed, retry 4 times.\n",
    "- Generate Random Dots\n",
    "\"\"\"\n",
    ")"
   ],
   "execution_count": null,
   "outputs": []
  },
  {
   "metadata": {},
   "cell_type": "code",
   "source": "",
   "id": "b82758e49f26d40e",
   "execution_count": null,
   "outputs": []
  },
  {
   "metadata": {},
   "cell_type": "code",
   "source": "",
   "id": "976e9af77673d1c1",
   "execution_count": null,
   "outputs": []
  }
 ],
 "metadata": {
  "kernelspec": {
   "display_name": "Python 3",
   "language": "python",
   "name": "python3"
  },
  "language_info": {
   "codemirror_mode": {
    "name": "ipython",
    "version": 2
   },
   "file_extension": ".py",
   "mimetype": "text/x-python",
   "name": "python",
   "nbconvert_exporter": "python",
   "pygments_lexer": "ipython2",
   "version": "2.7.6"
  }
 },
 "nbformat": 4,
 "nbformat_minor": 5
}
